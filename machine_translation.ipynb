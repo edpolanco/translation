{
 "cells": [
  {
   "cell_type": "markdown",
   "metadata": {
    "collapsed": true
   },
   "source": [
    "# Artificial Intelligence Nanodegree\n",
    "## Machine Translation Project\n",
    "In this notebook, sections that end with **'(IMPLEMENTATION)'** in the header indicate that the following blocks of code will require additional functionality which you must provide. Please be sure to read the instructions carefully!\n",
    "\n",
    "## Introduction\n",
    "In this notebook, you will build a deep neural network that functions as part of an end-to-end machine translation pipeline. Your completed pipeline will accept English text as input and return the French translation.\n",
    "\n",
    "- **Preprocess** - You'll convert text to sequence of integers.\n",
    "- **Models** Create models which accepts a sequence of integers as input and returns a probability distribution over possible translations. After learning about the basic types of neural networks that are often used for machine translation, you will engage in your own investigations, to design your own model!\n",
    "- **Prediction** Run the model on English text."
   ]
  },
  {
   "cell_type": "code",
   "execution_count": 1,
   "metadata": {},
   "outputs": [],
   "source": [
    "%load_ext autoreload\n",
    "%aimport helper, tests\n",
    "%autoreload 1"
   ]
  },
  {
   "cell_type": "code",
   "execution_count": 2,
   "metadata": {},
   "outputs": [
    {
     "name": "stderr",
     "output_type": "stream",
     "text": [
      "Using TensorFlow backend.\n"
     ]
    }
   ],
   "source": [
    "\n",
    "import collections\n",
    "\n",
    "import helper\n",
    "import numpy as np\n",
    "import project_tests as tests\n",
    "\n",
    "\n",
    "from keras.preprocessing.text import Tokenizer\n",
    "from keras.preprocessing.sequence import pad_sequences\n",
    "from keras.models import Model\n",
    "from keras.layers import LSTM, GRU,SimpleRNN, Dropout,Input, Dense, TimeDistributed, Activation, RepeatVector, Bidirectional\n",
    "from keras.layers.embeddings import Embedding\n",
    "from keras.optimizers import Adam,RMSprop\n",
    "from keras.losses import sparse_categorical_crossentropy\n",
    "from keras.models import Sequential"
   ]
  },
  {
   "cell_type": "markdown",
   "metadata": {},
   "source": [
    "### Verify access to the GPU\n",
    "The following test applies only if you expect to be using a GPU, e.g., while running in a Udacity Workspace or using an AWS instance with GPU support. Run the next cell, and verify that the device_type is \"GPU\".\n",
    "- If the device is not GPU & you are running from a Udacity Workspace, then save your workspace with the icon at the top, then click \"enable\" at the bottom of the workspace.\n",
    "- If the device is not GPU & you are running from an AWS instance, then refer to the cloud computing instructions in the classroom to verify your setup steps."
   ]
  },
  {
   "cell_type": "code",
   "execution_count": 3,
   "metadata": {},
   "outputs": [
    {
     "name": "stdout",
     "output_type": "stream",
     "text": [
      "[name: \"/cpu:0\"\n",
      "device_type: \"CPU\"\n",
      "memory_limit: 268435456\n",
      "locality {\n",
      "}\n",
      "incarnation: 17154525601934652772\n",
      ", name: \"/gpu:0\"\n",
      "device_type: \"GPU\"\n",
      "memory_limit: 3868721152\n",
      "locality {\n",
      "  bus_id: 1\n",
      "}\n",
      "incarnation: 13009492346395363001\n",
      "physical_device_desc: \"device: 0, name: GRID K520, pci bus id: 0000:00:03.0\"\n",
      ", name: \"/gpu:1\"\n",
      "device_type: \"GPU\"\n",
      "memory_limit: 3868721152\n",
      "locality {\n",
      "  bus_id: 1\n",
      "}\n",
      "incarnation: 12038579299471160549\n",
      "physical_device_desc: \"device: 1, name: GRID K520, pci bus id: 0000:00:04.0\"\n",
      ", name: \"/gpu:2\"\n",
      "device_type: \"GPU\"\n",
      "memory_limit: 3868721152\n",
      "locality {\n",
      "  bus_id: 1\n",
      "}\n",
      "incarnation: 2565741773233540505\n",
      "physical_device_desc: \"device: 2, name: GRID K520, pci bus id: 0000:00:05.0\"\n",
      ", name: \"/gpu:3\"\n",
      "device_type: \"GPU\"\n",
      "memory_limit: 3868721152\n",
      "locality {\n",
      "  bus_id: 1\n",
      "}\n",
      "incarnation: 14497056270421703814\n",
      "physical_device_desc: \"device: 3, name: GRID K520, pci bus id: 0000:00:06.0\"\n",
      "]\n"
     ]
    }
   ],
   "source": [
    "from tensorflow.python.client import device_lib\n",
    "print(device_lib.list_local_devices())"
   ]
  },
  {
   "cell_type": "markdown",
   "metadata": {},
   "source": [
    "## Dataset\n",
    "We begin by investigating the dataset that will be used to train and evaluate your pipeline.  The most common datasets used for machine translation are from [WMT](http://www.statmt.org/).  However, that will take a long time to train a neural network on.  We'll be using a dataset we created for this project that contains a small vocabulary.  You'll be able to train your model in a reasonable time with this dataset.\n",
    "### Load Data\n",
    "The data is located in `data/small_vocab_en` and `data/small_vocab_fr`. The `small_vocab_en` file contains English sentences with their French translations in the `small_vocab_fr` file. Load the English and French data from these files from running the cell below."
   ]
  },
  {
   "cell_type": "code",
   "execution_count": 4,
   "metadata": {},
   "outputs": [
    {
     "name": "stdout",
     "output_type": "stream",
     "text": [
      "Dataset Loaded\n"
     ]
    }
   ],
   "source": [
    "# Load English data\n",
    "english_sentences = helper.load_data('data/small_vocab_en')\n",
    "# Load French data\n",
    "french_sentences = helper.load_data('data/small_vocab_fr')\n",
    "\n",
    "print('Dataset Loaded')"
   ]
  },
  {
   "cell_type": "markdown",
   "metadata": {},
   "source": [
    "### Files\n",
    "Each line in `small_vocab_en` contains an English sentence with the respective translation in each line of `small_vocab_fr`.  View the first two lines from each file."
   ]
  },
  {
   "cell_type": "code",
   "execution_count": 5,
   "metadata": {},
   "outputs": [
    {
     "name": "stdout",
     "output_type": "stream",
     "text": [
      "small_vocab_en Line 1:  new jersey is sometimes quiet during autumn , and it is snowy in april .\n",
      "small_vocab_fr Line 1:  new jersey est parfois calme pendant l' automne , et il est neigeux en avril .\n",
      "small_vocab_en Line 2:  the united states is usually chilly during july , and it is usually freezing in november .\n",
      "small_vocab_fr Line 2:  les états-unis est généralement froid en juillet , et il gèle habituellement en novembre .\n"
     ]
    }
   ],
   "source": [
    "for sample_i in range(2):\n",
    "    print('small_vocab_en Line {}:  {}'.format(sample_i + 1, english_sentences[sample_i]))\n",
    "    print('small_vocab_fr Line {}:  {}'.format(sample_i + 1, french_sentences[sample_i]))"
   ]
  },
  {
   "cell_type": "markdown",
   "metadata": {},
   "source": [
    "From looking at the sentences, you can see they have been preprocessed already.  The puncuations have been delimited using spaces. All the text have been converted to lowercase.  This should save you some time, but the text requires more preprocessing.\n",
    "### Vocabulary\n",
    "The complexity of the problem is determined by the complexity of the vocabulary.  A more complex vocabulary is a more complex problem.  Let's look at the complexity of the dataset we'll be working with."
   ]
  },
  {
   "cell_type": "code",
   "execution_count": 6,
   "metadata": {},
   "outputs": [
    {
     "name": "stdout",
     "output_type": "stream",
     "text": [
      "1823250 English words.\n",
      "227 unique English words.\n",
      "10 Most common words in the English dataset:\n",
      "\"is\" \",\" \".\" \"in\" \"it\" \"during\" \"the\" \"but\" \"and\" \"sometimes\"\n",
      "\n",
      "1961295 French words.\n",
      "355 unique French words.\n",
      "10 Most common words in the French dataset:\n",
      "\"est\" \".\" \",\" \"en\" \"il\" \"les\" \"mais\" \"et\" \"la\" \"parfois\"\n"
     ]
    }
   ],
   "source": [
    "english_words_counter = collections.Counter([word for sentence in english_sentences for word in sentence.split()])\n",
    "french_words_counter = collections.Counter([word for sentence in french_sentences for word in sentence.split()])\n",
    "\n",
    "print('{} English words.'.format(len([word for sentence in english_sentences for word in sentence.split()])))\n",
    "print('{} unique English words.'.format(len(english_words_counter)))\n",
    "print('10 Most common words in the English dataset:')\n",
    "print('\"' + '\" \"'.join(list(zip(*english_words_counter.most_common(10)))[0]) + '\"')\n",
    "print()\n",
    "print('{} French words.'.format(len([word for sentence in french_sentences for word in sentence.split()])))\n",
    "print('{} unique French words.'.format(len(french_words_counter)))\n",
    "print('10 Most common words in the French dataset:')\n",
    "print('\"' + '\" \"'.join(list(zip(*french_words_counter.most_common(10)))[0]) + '\"')"
   ]
  },
  {
   "cell_type": "markdown",
   "metadata": {},
   "source": [
    "For comparison, _Alice's Adventures in Wonderland_ contains 2,766 unique words of a total of 15,500 words.\n",
    "## Preprocess\n",
    "For this project, you won't use text data as input to your model. Instead, you'll convert the text into sequences of integers using the following preprocess methods:\n",
    "1. Tokenize the words into ids\n",
    "2. Add padding to make all the sequences the same length.\n",
    "\n",
    "Time to start preprocessing the data...\n",
    "### Tokenize (IMPLEMENTATION)\n",
    "For a neural network to predict on text data, it first has to be turned into data it can understand. Text data like \"dog\" is a sequence of ASCII character encodings.  Since a neural network is a series of multiplication and addition operations, the input data needs to be number(s).\n",
    "\n",
    "We can turn each character into a number or each word into a number.  These are called character and word ids, respectively.  Character ids are used for character level models that generate text predictions for each character.  A word level model uses word ids that generate text predictions for each word.  Word level models tend to learn better, since they are lower in complexity, so we'll use those.\n",
    "\n",
    "Turn each sentence into a sequence of words ids using Keras's [`Tokenizer`](https://keras.io/preprocessing/text/#tokenizer) function. Use this function to tokenize `english_sentences` and `french_sentences` in the cell below.\n",
    "\n",
    "Running the cell will run `tokenize` on sample data and show output for debugging."
   ]
  },
  {
   "cell_type": "code",
   "execution_count": 7,
   "metadata": {},
   "outputs": [
    {
     "name": "stdout",
     "output_type": "stream",
     "text": [
      "{'the': 1, 'quick': 2, 'a': 3, 'brown': 4, 'fox': 5, 'jumps': 6, 'over': 7, 'lazy': 8, 'dog': 9, 'by': 10, 'jove': 11, 'my': 12, 'study': 13, 'of': 14, 'lexicography': 15, 'won': 16, 'prize': 17, 'this': 18, 'is': 19, 'short': 20, 'sentence': 21, '<PAD>': 0}\n",
      "\n",
      "Sequence 1 in x\n",
      "  Input:  The quick brown fox jumps over the lazy dog .\n",
      "  Output: [1, 2, 4, 5, 6, 7, 1, 8, 9]\n",
      "Sequence 2 in x\n",
      "  Input:  By Jove , my quick study of lexicography won a prize .\n",
      "  Output: [10, 11, 12, 2, 13, 14, 15, 16, 3, 17]\n",
      "Sequence 3 in x\n",
      "  Input:  This is a short sentence .\n",
      "  Output: [18, 19, 3, 20, 21]\n"
     ]
    }
   ],
   "source": [
    "def tokenize(x):\n",
    "    \"\"\"\n",
    "    Tokenize x\n",
    "    :param x: List of sentences/strings to be tokenized\n",
    "    :return: Tuple of (tokenized x data, tokenizer used to tokenize x)\n",
    "    \"\"\"\n",
    "    # TODO: Implement\n",
    "    tokenizer = Tokenizer()\n",
    "    tokenizer.fit_on_texts(x)\n",
    "    tokenizer.word_index['<PAD>'] =  0\n",
    "    return tokenizer.texts_to_sequences(x), tokenizer\n",
    "tests.test_tokenize(tokenize)\n",
    "\n",
    "# Tokenize Example output\n",
    "text_sentences = [\n",
    "    'The quick brown fox jumps over the lazy dog .',\n",
    "    'By Jove , my quick study of lexicography won a prize .',\n",
    "    'This is a short sentence .']\n",
    "text_tokenized, text_tokenizer = tokenize(text_sentences)\n",
    "print(text_tokenizer.word_index)\n",
    "print()\n",
    "for sample_i, (sent, token_sent) in enumerate(zip(text_sentences, text_tokenized)):\n",
    "    print('Sequence {} in x'.format(sample_i + 1))\n",
    "    print('  Input:  {}'.format(sent))\n",
    "    print('  Output: {}'.format(token_sent))"
   ]
  },
  {
   "cell_type": "markdown",
   "metadata": {},
   "source": [
    "### Padding (IMPLEMENTATION)\n",
    "When batching the sequence of word ids together, each sequence needs to be the same length.  Since sentences are dynamic in length, we can add padding to the end of the sequences to make them the same length.\n",
    "\n",
    "Make sure all the English sequences have the same length and all the French sequences have the same length by adding padding to the **end** of each sequence using Keras's [`pad_sequences`](https://keras.io/preprocessing/sequence/#pad_sequences) function."
   ]
  },
  {
   "cell_type": "code",
   "execution_count": 8,
   "metadata": {},
   "outputs": [
    {
     "name": "stdout",
     "output_type": "stream",
     "text": [
      "Sequence 1 in x\n",
      "  Input:  [1 2 4 5 6 7 1 8 9]\n",
      "  Output: [1 2 4 5 6 7 1 8 9 0]\n",
      "Sequence 2 in x\n",
      "  Input:  [10 11 12  2 13 14 15 16  3 17]\n",
      "  Output: [10 11 12  2 13 14 15 16  3 17]\n",
      "Sequence 3 in x\n",
      "  Input:  [18 19  3 20 21]\n",
      "  Output: [18 19  3 20 21  0  0  0  0  0]\n"
     ]
    }
   ],
   "source": [
    "def pad(x, length=None):\n",
    "    \"\"\"\n",
    "    Pad x\n",
    "    :param x: List of sequences.\n",
    "    :param length: Length to pad the sequence to.  If None, use length of longest sequence in x.\n",
    "    :return: Padded numpy array of sequences\n",
    "    \"\"\"\n",
    "    # TODO: Implement\n",
    "    return  pad_sequences(x, maxlen=length,padding='post', truncating='post')\n",
    "tests.test_pad(pad)\n",
    "\n",
    "# Pad Tokenized output\n",
    "test_pad = pad(text_tokenized)\n",
    "for sample_i, (token_sent, pad_sent) in enumerate(zip(text_tokenized, test_pad)):\n",
    "    print('Sequence {} in x'.format(sample_i + 1))\n",
    "    print('  Input:  {}'.format(np.array(token_sent)))\n",
    "    print('  Output: {}'.format(pad_sent))"
   ]
  },
  {
   "cell_type": "markdown",
   "metadata": {},
   "source": [
    "### Preprocess Pipeline\n",
    "Your focus for this project is to build neural network architecture, so we won't ask you to create a preprocess pipeline.  Instead, we've provided you with the implementation of the `preprocess` function."
   ]
  },
  {
   "cell_type": "code",
   "execution_count": 9,
   "metadata": {},
   "outputs": [
    {
     "name": "stdout",
     "output_type": "stream",
     "text": [
      "Data Preprocessed\n",
      "Max English sentence length: 15\n",
      "Max French sentence length: 21\n",
      "English vocabulary size: 200\n",
      "French vocabulary size: 345\n"
     ]
    }
   ],
   "source": [
    "from sklearn.model_selection import train_test_split\n",
    "\n",
    "def preprocess(x, y):\n",
    "    \"\"\"\n",
    "    Preprocess x and y\n",
    "    :param x: Feature List of sentences\n",
    "    :param y: Label List of sentences\n",
    "    :return: Tuple of (Preprocessed x, Preprocessed y, x tokenizer, y tokenizer)\n",
    "    \"\"\"\n",
    "    preprocess_x, x_tk = tokenize(x)\n",
    "    preprocess_y, y_tk = tokenize(y)\n",
    "\n",
    "    preprocess_x = pad(preprocess_x)\n",
    "    preprocess_y = pad(preprocess_y)\n",
    "\n",
    "    # Keras's sparse_categorical_crossentropy function requires the labels to be in 3 dimensions\n",
    "    preprocess_y = preprocess_y.reshape(*preprocess_y.shape, 1)\n",
    "\n",
    "    return preprocess_x, preprocess_y, x_tk, y_tk\n",
    "\n",
    "preproc_english_sentences, preproc_french_sentences, english_tokenizer, french_tokenizer =\\\n",
    "    preprocess(english_sentences, french_sentences)\n",
    "\n",
    "\n",
    "max_english_sequence_length = preproc_english_sentences.shape[1]\n",
    "max_french_sequence_length = preproc_french_sentences.shape[1]\n",
    "english_vocab_size = len(english_tokenizer.word_index)\n",
    "french_vocab_size = len(french_tokenizer.word_index)\n",
    "\n",
    "\n",
    "#split data for testing. use 10% for testing\n",
    "preproc_english_sentences,preproc_english_sentences_test, preproc_french_sentences, preproc_french_sentences_test =\\\n",
    "train_test_split(preproc_english_sentences, preproc_french_sentences, test_size=0.10, random_state=50)\n",
    "\n",
    "#reshape testing english sentences\n",
    "english_test = pad(preproc_english_sentences_test, max_french_sequence_length)\n",
    "english_test = english_test.reshape((-1, preproc_french_sentences.shape[-2], 1))\n",
    "\n",
    "\n",
    "print('Data Preprocessed')\n",
    "print(\"Max English sentence length:\", max_english_sequence_length)\n",
    "print(\"Max French sentence length:\", max_french_sequence_length)\n",
    "print(\"English vocabulary size:\", english_vocab_size)\n",
    "print(\"French vocabulary size:\", french_vocab_size)"
   ]
  },
  {
   "cell_type": "markdown",
   "metadata": {},
   "source": [
    "## Models\n",
    "In this section, you will experiment with various neural network architectures.\n",
    "You will begin by training four relatively simple architectures.\n",
    "- Model 1 is a simple RNN\n",
    "- Model 2 is a RNN with Embedding\n",
    "- Model 3 is a Bidirectional RNN\n",
    "- Model 4 is an optional Encoder-Decoder RNN\n",
    "\n",
    "After experimenting with the four simple architectures, you will construct a deeper architecture that is designed to outperform all four models.\n",
    "### Ids Back to Text\n",
    "The neural network will be translating the input to words ids, which isn't the final form we want.  We want the French translation.  The function `logits_to_text` will bridge the gab between the logits from the neural network to the French translation.  You'll be using this function to better understand the output of the neural network."
   ]
  },
  {
   "cell_type": "code",
   "execution_count": 10,
   "metadata": {},
   "outputs": [
    {
     "name": "stdout",
     "output_type": "stream",
     "text": [
      "`logits_to_text` function loaded.\n"
     ]
    }
   ],
   "source": [
    "def logits_to_text(logits, tokenizer):\n",
    "    \"\"\"\n",
    "    Turn logits from a neural network into text using the tokenizer\n",
    "    :param logits: Logits from a neural network\n",
    "    :param tokenizer: Keras Tokenizer fit on the labels\n",
    "    :return: String that represents the text of the logits\n",
    "    \"\"\"\n",
    "    index_to_words = {id: word for word, id in tokenizer.word_index.items()}\n",
    "    \n",
    "    #already <PAD> token to tokenizer function\n",
    "    #index_to_words[0] = '<PAD>'\n",
    "\n",
    "    return ' '.join([index_to_words[prediction] for prediction in np.argmax(logits, 1) if prediction !=0])\n",
    "\n",
    "print('`logits_to_text` function loaded.')"
   ]
  },
  {
   "cell_type": "code",
   "execution_count": 11,
   "metadata": {},
   "outputs": [],
   "source": [
    "def ids_to_text(ids, tokenizer):\n",
    "    \"\"\"\n",
    "    Convert sentence of ints to sentence of text\n",
    "    \n",
    "    paramter:\n",
    "        ids:         array of ints representings ids of words\n",
    "        tokenizer:   tokenizer to covert word id to text\n",
    "    \n",
    "    \"\"\"\n",
    "    index_to_words = {id: word for word, id in tokenizer.word_index.items()}\n",
    "    \n",
    "    return ' '.join([index_to_words[id] for id in ids if id != 0])\n",
    "        \n",
    "\n",
    "def make_prediction(count,model):    \n",
    "    \"\"\" \n",
    "    Make english to french translation prediction for given count randomly.\n",
    "    \"\"\"\n",
    "    \n",
    "    test_count = 1\n",
    "    for id in np.random.randint(len(preproc_english_sentences_test), size=count):\n",
    "        print(\"Test {}\".format(test_count))\n",
    "        #print english sentence\n",
    "        print(\"\\tEnglish sentence: \\t{}\".format(ids_to_text(preproc_english_sentences_test[id],english_tokenizer)))\n",
    "        \n",
    "        #get the input shape of the model and reshape the test english sentences\n",
    "        input_shape = model.input_shape\n",
    "        \n",
    "        #get the sentence length of input and apply padding if necessary to the english sentences\n",
    "        if preproc_english_sentences_test.shape[1] != input_shape[1]:\n",
    "            english_test_x =  pad(preproc_english_sentences_test, max_french_sequence_length)\n",
    "        else:\n",
    "            english_test_x = preproc_english_sentences_test\n",
    "        \n",
    "        #reshape the english_test input sentences\n",
    "        temp_list = list(input_shape)\n",
    "        temp_list[0]=1\n",
    "        input_shape = tuple(temp_list)\n",
    "        temp = english_test_x[id].reshape(input_shape)\n",
    "        \n",
    "        #make prediction\n",
    "        print(\"\\tPrediction:     \\t{}\".format(logits_to_text(model.predict(temp)[0], french_tokenizer)))\n",
    "        \n",
    "        #print actaul french sentence\n",
    "        print(\"\\tFrench sentence: \\t{}\".format(ids_to_text(preproc_french_sentences_test[id].flatten(),french_tokenizer)))\n",
    "        \n",
    "        print(\"-\" * 20 )\n",
    "        test_count +=1"
   ]
  },
  {
   "cell_type": "markdown",
   "metadata": {},
   "source": [
    "### Model 1: RNN (IMPLEMENTATION)\n",
    "![RNN](images/rnn.png)\n",
    "A basic RNN model is a good baseline for sequence data.  In this model, you'll build a RNN that translates English to French."
   ]
  },
  {
   "cell_type": "code",
   "execution_count": 12,
   "metadata": {},
   "outputs": [],
   "source": [
    "def simple_model(input_shape, output_sequence_length, english_vocab_size, french_vocab_size):\n",
    "    \"\"\"\n",
    "    Build and train a basic RNN on x and y\n",
    "    :param input_shape: Tuple of input shape\n",
    "    :param output_sequence_length: Length of output sequence\n",
    "    :param english_vocab_size: Number of unique English words in the dataset\n",
    "    :param french_vocab_size: Number of unique French words in the dataset\n",
    "    :return: Keras model built, but not trained\n",
    "    \"\"\"\n",
    "    # TODO: Build the layers\n",
    "    model = Sequential() \n",
    "    model.add(LSTM(500, return_sequences=True, input_shape=input_shape[1:]))\n",
    "    model.add(Dense(french_vocab_size, activation='softmax'))\n",
    "    rmsprop =  RMSprop(lr=0.01)\n",
    "    model.compile(loss=sparse_categorical_crossentropy,\n",
    "                  optimizer=rmsprop,\n",
    "                  metrics=['accuracy'])\n",
    "    return model\n",
    "tests.test_simple_model(simple_model)"
   ]
  },
  {
   "cell_type": "code",
   "execution_count": 13,
   "metadata": {},
   "outputs": [
    {
     "name": "stdout",
     "output_type": "stream",
     "text": [
      "_________________________________________________________________\n",
      "Layer (type)                 Output Shape              Param #   \n",
      "=================================================================\n",
      "lstm_2 (LSTM)                (None, 21, 500)           1004000   \n",
      "_________________________________________________________________\n",
      "dense_2 (Dense)              (None, 21, 345)           172845    \n",
      "=================================================================\n",
      "Total params: 1,176,845.0\n",
      "Trainable params: 1,176,845\n",
      "Non-trainable params: 0.0\n",
      "_________________________________________________________________\n",
      "None\n",
      "Train on 99259 samples, validate on 24815 samples\n",
      "Epoch 1/10\n",
      "99259/99259 [==============================] - 44s - loss: 1.8949 - acc: 0.5368 - val_loss: 1.3127 - val_acc: 0.6171\n",
      "Epoch 2/10\n",
      "99259/99259 [==============================] - 42s - loss: 1.2722 - acc: 0.6218 - val_loss: 1.1895 - val_acc: 0.6314\n",
      "Epoch 3/10\n",
      "99259/99259 [==============================] - 42s - loss: 1.1707 - acc: 0.6405 - val_loss: 1.1474 - val_acc: 0.6458\n",
      "Epoch 4/10\n",
      "99259/99259 [==============================] - 42s - loss: 1.1151 - acc: 0.6488 - val_loss: 1.0799 - val_acc: 0.6503\n",
      "Epoch 5/10\n",
      "99259/99259 [==============================] - 42s - loss: 1.0784 - acc: 0.6559 - val_loss: 1.0353 - val_acc: 0.6614\n",
      "Epoch 6/10\n",
      "99259/99259 [==============================] - 42s - loss: 1.0446 - acc: 0.6619 - val_loss: 1.0061 - val_acc: 0.6600\n",
      "Epoch 7/10\n",
      "99259/99259 [==============================] - 42s - loss: 1.0210 - acc: 0.6648 - val_loss: 0.9898 - val_acc: 0.6660\n",
      "Epoch 8/10\n",
      "99259/99259 [==============================] - 42s - loss: 1.0017 - acc: 0.6679 - val_loss: 1.0219 - val_acc: 0.6576\n",
      "Epoch 9/10\n",
      "99259/99259 [==============================] - 42s - loss: 0.9857 - acc: 0.6715 - val_loss: 0.9617 - val_acc: 0.6721\n",
      "Epoch 10/10\n",
      "99259/99259 [==============================] - 42s - loss: 0.9692 - acc: 0.6738 - val_loss: 0.9847 - val_acc: 0.6672\n"
     ]
    },
    {
     "data": {
      "text/plain": [
       "<keras.callbacks.History at 0x7f320a9bb6a0>"
      ]
     },
     "execution_count": 13,
     "metadata": {},
     "output_type": "execute_result"
    }
   ],
   "source": [
    "# Reshaping the input to work with a basic RNN\n",
    "tmp_x = pad(preproc_english_sentences, max_french_sequence_length)\n",
    "tmp_x = tmp_x.reshape((-1, preproc_french_sentences.shape[-2], 1))\n",
    "\n",
    "# Train the neural network\n",
    "simple_rnn_model = simple_model(\n",
    "    tmp_x.shape,\n",
    "    max_french_sequence_length,\n",
    "    english_vocab_size,\n",
    "    french_vocab_size)\n",
    "\n",
    "print(simple_rnn_model.summary())\n",
    "simple_rnn_model.fit(tmp_x, preproc_french_sentences, batch_size=1024, epochs=10, validation_split=0.2)"
   ]
  },
  {
   "cell_type": "code",
   "execution_count": 41,
   "metadata": {},
   "outputs": [
    {
     "name": "stdout",
     "output_type": "stream",
     "text": [
      "Simple model accuracy on test dataset: 0.6659\n"
     ]
    }
   ],
   "source": [
    "#evaluate performance on the test dataset\n",
    "\n",
    "# Reshaping the test input\n",
    "tmp_x_test = pad(preproc_english_sentences_test, max_french_sequence_length)\n",
    "tmp_x_test = tmp_x_test.reshape((-1, preproc_french_sentences.shape[-2], 1))\n",
    "result = simple_rnn_model.evaluate(tmp_x_test,preproc_french_sentences_test, verbose=0)\n",
    "print(\"Simple model accuracy on test dataset: {0:.4f}\".format(result[1]) )"
   ]
  },
  {
   "cell_type": "code",
   "execution_count": 15,
   "metadata": {},
   "outputs": [
    {
     "name": "stdout",
     "output_type": "stream",
     "text": [
      "Test 1\n",
      "\tEnglish sentence: \tfrance is warm during may and it is usually relaxing in february\n",
      "\tPrediction:     \tla est sec en mois de il est il est en février\n",
      "\tFrench sentence: \tfrance est chaud au mois de mai et il est relaxant habituellement en février\n",
      "--------------------\n",
      "Test 2\n",
      "\tEnglish sentence: \tparis is wonderful during autumn and it is never nice in april\n",
      "\tPrediction:     \tparis inde est en mois de il est il agréable agréable en en\n",
      "\tFrench sentence: \tparis est merveilleux au cours de l' automne et il est jamais agréable en avril\n",
      "--------------------\n",
      "Test 3\n",
      "\tEnglish sentence: \tchina is never hot during march but it is sometimes chilly in january\n",
      "\tPrediction:     \tla est jamais jamais en en mais mais mais parfois parfois parfois en\n",
      "\tFrench sentence: \tchine est jamais chaud au mois de mars mais il est parfois froid en janvier\n",
      "--------------------\n",
      "Test 4\n",
      "\tEnglish sentence: \the liked that big blue automobile\n",
      "\tPrediction:     \til aimait une petite voiture vert\n",
      "\tFrench sentence: \til aimait ce grand automobile bleu\n",
      "--------------------\n",
      "Test 5\n",
      "\tEnglish sentence: \tnew jersey is pleasant during may but it is usually busy in november\n",
      "\tPrediction:     \tparis jersey est le gel mois mais mais mais il est en en\n",
      "\tFrench sentence: \tnew jersey est agréable au mois de mai mais il est généralement occupé en novembre\n",
      "--------------------\n"
     ]
    }
   ],
   "source": [
    "#make 5 predictions\n",
    "make_prediction(5, simple_rnn_model)"
   ]
  },
  {
   "cell_type": "markdown",
   "metadata": {},
   "source": [
    "### Model 2: Embedding (IMPLEMENTATION)\n",
    "![RNN](images/embedding.png)\n",
    "You've turned the words into ids, but there's a better representation of a word.  This is called word embeddings.  An embedding is a vector representation of the word that is close to similar words in n-dimensional space, where the n represents the size of the embedding vectors.\n",
    "\n",
    "In this model, you'll create a RNN model using embedding."
   ]
  },
  {
   "cell_type": "code",
   "execution_count": 16,
   "metadata": {},
   "outputs": [],
   "source": [
    "def embed_model(input_shape, output_sequence_length, english_vocab_size, french_vocab_size):\n",
    "    \"\"\"\n",
    "    Build and train a RNN model using word embedding on x and y\n",
    "    :param input_shape: Tuple of input shape\n",
    "    :param output_sequence_length: Length of output sequence\n",
    "    :param english_vocab_size: Number of unique English words in the dataset\n",
    "    :param french_vocab_size: Number of unique French words in the dataset\n",
    "    :return: Keras model built, but not trained\n",
    "    \"\"\"\n",
    "    # TODO: Implement\n",
    "    model = Sequential() \n",
    "    model.add(Embedding(french_vocab_size, 300, input_length=input_shape[1]))\n",
    "    model.add(LSTM(500,return_sequences=True))\n",
    "    model.add(TimeDistributed(Dense(french_vocab_size, activation='softmax')))\n",
    "    rmsprop =  RMSprop(lr=0.01)\n",
    "    model.compile(loss=sparse_categorical_crossentropy,\n",
    "                  optimizer=rmsprop,\n",
    "                  metrics=['accuracy']) \n",
    "   \n",
    "    return model\n",
    "tests.test_embed_model(embed_model)"
   ]
  },
  {
   "cell_type": "code",
   "execution_count": 17,
   "metadata": {},
   "outputs": [
    {
     "name": "stdout",
     "output_type": "stream",
     "text": [
      "_________________________________________________________________\n",
      "Layer (type)                 Output Shape              Param #   \n",
      "=================================================================\n",
      "embedding_2 (Embedding)      (None, 21, 300)           103500    \n",
      "_________________________________________________________________\n",
      "lstm_4 (LSTM)                (None, 21, 500)           1602000   \n",
      "_________________________________________________________________\n",
      "time_distributed_2 (TimeDist (None, 21, 345)           172845    \n",
      "=================================================================\n",
      "Total params: 1,878,345.0\n",
      "Trainable params: 1,878,345\n",
      "Non-trainable params: 0.0\n",
      "_________________________________________________________________\n",
      "None\n",
      "Train on 99259 samples, validate on 24815 samples\n",
      "Epoch 1/10\n",
      "99259/99259 [==============================] - 53s - loss: 2.3008 - acc: 0.5384 - val_loss: 1.1151 - val_acc: 0.7004\n",
      "Epoch 2/10\n",
      "99259/99259 [==============================] - 51s - loss: 0.6229 - acc: 0.8134 - val_loss: 0.4334 - val_acc: 0.8561\n",
      "Epoch 3/10\n",
      "99259/99259 [==============================] - 51s - loss: 0.3047 - acc: 0.8951 - val_loss: 0.2719 - val_acc: 0.9028\n",
      "Epoch 4/10\n",
      "99259/99259 [==============================] - 51s - loss: 0.2357 - acc: 0.9168 - val_loss: 0.2199 - val_acc: 0.9230\n",
      "Epoch 5/10\n",
      "99259/99259 [==============================] - 51s - loss: 0.2083 - acc: 0.9257 - val_loss: 0.2107 - val_acc: 0.9261\n",
      "Epoch 6/10\n",
      "99259/99259 [==============================] - 51s - loss: 0.1929 - acc: 0.9307 - val_loss: 0.1970 - val_acc: 0.9304\n",
      "Epoch 7/10\n",
      "99259/99259 [==============================] - 51s - loss: 0.1849 - acc: 0.9332 - val_loss: 0.1966 - val_acc: 0.9306\n",
      "Epoch 8/10\n",
      "99259/99259 [==============================] - 51s - loss: 0.1788 - acc: 0.9350 - val_loss: 0.1931 - val_acc: 0.9316\n",
      "Epoch 9/10\n",
      "99259/99259 [==============================] - 51s - loss: 0.1750 - acc: 0.9360 - val_loss: 0.1924 - val_acc: 0.9316\n",
      "Epoch 10/10\n",
      "99259/99259 [==============================] - 51s - loss: 0.1723 - acc: 0.9369 - val_loss: 0.1854 - val_acc: 0.9335\n"
     ]
    },
    {
     "data": {
      "text/plain": [
       "<keras.callbacks.History at 0x7f31a8596f60>"
      ]
     },
     "execution_count": 17,
     "metadata": {},
     "output_type": "execute_result"
    }
   ],
   "source": [
    "# TODO: Reshape the input\n",
    "tmp_x2 = pad(preproc_english_sentences, max_french_sequence_length)\n",
    "\n",
    "# TODO: Train the neural network\n",
    "embed_model = embed_model(\n",
    "    tmp_x2.shape,\n",
    "    max_french_sequence_length,\n",
    "    english_vocab_size,\n",
    "    french_vocab_size)\n",
    "print(embed_model.summary())\n",
    "embed_model.fit(tmp_x2, preproc_french_sentences, batch_size=1024, epochs=10, validation_split=0.2)"
   ]
  },
  {
   "cell_type": "code",
   "execution_count": 18,
   "metadata": {},
   "outputs": [
    {
     "name": "stdout",
     "output_type": "stream",
     "text": [
      "Embed model accuracy on test dataset: 0.9315\n"
     ]
    }
   ],
   "source": [
    "#evaluate performance on the test dataset\n",
    "\n",
    "# Reshaping the test input\n",
    "tmp_x2_test = pad(preproc_english_sentences_test, max_french_sequence_length)\n",
    "\n",
    "result = embed_model.evaluate(tmp_x2_test,preproc_french_sentences_test, verbose=0)\n",
    "print(\"Embed model accuracy on test dataset: {0:.4f}\".format(result[1]) )"
   ]
  },
  {
   "cell_type": "code",
   "execution_count": 19,
   "metadata": {},
   "outputs": [
    {
     "name": "stdout",
     "output_type": "stream",
     "text": [
      "Test 1\n",
      "\tEnglish sentence: \tcalifornia is hot during february but it is snowy in march\n",
      "\tPrediction:     \tcalifornie est chaud en février mais il est neigeux en mars\n",
      "\tFrench sentence: \tcalifornie est chaud en février mais il est neigeux en mars\n",
      "--------------------\n",
      "Test 2\n",
      "\tEnglish sentence: \tour least liked fruit is the strawberry but my least liked is the grapefruit\n",
      "\tPrediction:     \tnotre fruit aimé des est la fraise mais mon moins aimé est la pamplemousse\n",
      "\tFrench sentence: \tnotre moins aimé fruit est la fraise mais mon moins aimé est le pamplemousse\n",
      "--------------------\n",
      "Test 3\n",
      "\tEnglish sentence: \tthe lime is her least favorite fruit but the pear is their least favorite\n",
      "\tPrediction:     \tles chaux est son fruit préféré moins mais la poire est leur moins préférée\n",
      "\tFrench sentence: \tla chaux est son fruit préféré moins mais la poire est leur moins préférée\n",
      "--------------------\n",
      "Test 4\n",
      "\tEnglish sentence: \tindia is never relaxing during may and it is never wet in november\n",
      "\tPrediction:     \tl' inde est jamais relaxant au mois de mai et il est jamais humide en novembre\n",
      "\tFrench sentence: \tl' inde est jamais relaxant au mois de mai et il est jamais humide en novembre\n",
      "--------------------\n",
      "Test 5\n",
      "\tEnglish sentence: \tchina is mild during winter and it is rainy in december\n",
      "\tPrediction:     \tchine est doux au l' hiver et il est pluvieux décembre\n",
      "\tFrench sentence: \tchine est doux pendant l' hiver et il pleut en décembre\n",
      "--------------------\n"
     ]
    }
   ],
   "source": [
    "#make 5 predictions\n",
    "make_prediction(5, embed_model)"
   ]
  },
  {
   "cell_type": "markdown",
   "metadata": {},
   "source": [
    "### Model 3: Bidirectional RNNs (IMPLEMENTATION)\n",
    "![RNN](images/bidirectional.png)\n",
    "One restriction of a RNN is that it can't see the future input, only the past.  This is where bidirectional recurrent neural networks come in.  They are able to see the future data."
   ]
  },
  {
   "cell_type": "code",
   "execution_count": 20,
   "metadata": {},
   "outputs": [],
   "source": [
    "def bd_model(input_shape, output_sequence_length, english_vocab_size, french_vocab_size):\n",
    "    \"\"\"\n",
    "    Build and train a bidirectional RNN model on x and y\n",
    "    :param input_shape: Tuple of input shape\n",
    "    :param output_sequence_length: Length of output sequence\n",
    "    :param english_vocab_size: Number of unique English words in the dataset\n",
    "    :param french_vocab_size: Number of unique French words in the dataset\n",
    "    :return: Keras model built, but not trained\n",
    "    \"\"\"\n",
    "    # TODO: Build the layers\n",
    "    model = Sequential() \n",
    "    #model.add(Bidirectional(LSTM(output_sequence_length, return_sequences=True), input_shape=input_shape[1:]))\n",
    "    model.add(Bidirectional(LSTM(500, return_sequences=True), input_shape=input_shape[1:]))\n",
    "    model.add(TimeDistributed(Dense(french_vocab_size, activation='softmax')))\n",
    "    rmsprop =  RMSprop(lr=0.01)\n",
    "    model.compile(loss=sparse_categorical_crossentropy,\n",
    "                  optimizer=rmsprop,\n",
    "                  metrics=['accuracy'])\n",
    "    return model\n",
    "tests.test_bd_model(bd_model)"
   ]
  },
  {
   "cell_type": "code",
   "execution_count": 21,
   "metadata": {},
   "outputs": [
    {
     "name": "stdout",
     "output_type": "stream",
     "text": [
      "(124074, 21, 1)\n",
      "_________________________________________________________________\n",
      "Layer (type)                 Output Shape              Param #   \n",
      "=================================================================\n",
      "bidirectional_2 (Bidirection (None, 21, 1000)          2008000   \n",
      "_________________________________________________________________\n",
      "time_distributed_4 (TimeDist (None, 21, 345)           345345    \n",
      "=================================================================\n",
      "Total params: 2,353,345.0\n",
      "Trainable params: 2,353,345\n",
      "Non-trainable params: 0.0\n",
      "_________________________________________________________________\n",
      "None\n",
      "Train on 99259 samples, validate on 24815 samples\n",
      "Epoch 1/10\n",
      "99259/99259 [==============================] - 87s - loss: 2.0097 - acc: 0.5509 - val_loss: 1.3122 - val_acc: 0.6278\n",
      "Epoch 2/10\n",
      "99259/99259 [==============================] - 85s - loss: 1.2307 - acc: 0.6348 - val_loss: 1.1491 - val_acc: 0.6559\n",
      "Epoch 3/10\n",
      "99259/99259 [==============================] - 85s - loss: 1.1259 - acc: 0.6554 - val_loss: 1.0926 - val_acc: 0.6614\n",
      "Epoch 4/10\n",
      "99259/99259 [==============================] - 85s - loss: 1.0644 - acc: 0.6652 - val_loss: 1.0688 - val_acc: 0.6665\n",
      "Epoch 5/10\n",
      "99259/99259 [==============================] - 85s - loss: 1.0251 - acc: 0.6721 - val_loss: 0.9736 - val_acc: 0.6810\n",
      "Epoch 6/10\n",
      "99259/99259 [==============================] - 85s - loss: 0.9915 - acc: 0.6769 - val_loss: 1.0212 - val_acc: 0.6732\n",
      "Epoch 7/10\n",
      "99259/99259 [==============================] - 85s - loss: 0.9705 - acc: 0.6805 - val_loss: 1.0113 - val_acc: 0.6675\n",
      "Epoch 8/10\n",
      "99259/99259 [==============================] - 85s - loss: 0.9505 - acc: 0.6841 - val_loss: 0.9119 - val_acc: 0.6935\n",
      "Epoch 9/10\n",
      "99259/99259 [==============================] - 85s - loss: 0.9281 - acc: 0.6888 - val_loss: 0.9770 - val_acc: 0.6655\n",
      "Epoch 10/10\n",
      "99259/99259 [==============================] - 85s - loss: 0.9158 - acc: 0.6902 - val_loss: 0.8992 - val_acc: 0.6894\n"
     ]
    },
    {
     "data": {
      "text/plain": [
       "<keras.callbacks.History at 0x7f3116e70860>"
      ]
     },
     "execution_count": 21,
     "metadata": {},
     "output_type": "execute_result"
    }
   ],
   "source": [
    "# Reshaping the input to work with a basic RNN\n",
    "tmp_x3 = pad(preproc_english_sentences, max_french_sequence_length)\n",
    "tmp_x3 = tmp_x3.reshape((-1, preproc_french_sentences.shape[-2], 1))\n",
    "print(tmp_x.shape)\n",
    "\n",
    "# Train the neural network\n",
    "bd_rnn_model = bd_model(\n",
    "    tmp_x3.shape,\n",
    "    max_french_sequence_length,\n",
    "    english_vocab_size,\n",
    "    french_vocab_size)\n",
    "print(bd_rnn_model.summary())\n",
    "bd_rnn_model.fit(tmp_x3, preproc_french_sentences, batch_size=1024, epochs=10, validation_split=0.2)"
   ]
  },
  {
   "cell_type": "code",
   "execution_count": 23,
   "metadata": {},
   "outputs": [
    {
     "name": "stdout",
     "output_type": "stream",
     "text": [
      "Bidirectional model accuracy on test dataset: 0.6883\n"
     ]
    }
   ],
   "source": [
    "#evaluate performance on the test dataset\n",
    "\n",
    "# Reshaping the test input\n",
    "tmp_x3_test = pad(preproc_english_sentences_test, max_french_sequence_length)\n",
    "tmp_x3_test = tmp_x3_test.reshape((-1, preproc_french_sentences.shape[-2], 1))\n",
    "\n",
    "result = bd_rnn_model.evaluate(tmp_x3_test,preproc_french_sentences_test, verbose=0)\n",
    "print(\"Bidirectional model accuracy on test dataset: {0:.4f}\".format(result[1]) )"
   ]
  },
  {
   "cell_type": "code",
   "execution_count": 24,
   "metadata": {},
   "outputs": [
    {
     "name": "stdout",
     "output_type": "stream",
     "text": [
      "Test 1\n",
      "\tEnglish sentence: \tcalifornia is sometimes beautiful during fall but it is usually warm in february\n",
      "\tPrediction:     \tcalifornie france parfois parfois en juin mais mais il est généralement en en\n",
      "\tFrench sentence: \tcalifornie est parfois belle à l'automne mais il est habituellement chaud en février\n",
      "--------------------\n",
      "Test 2\n",
      "\tEnglish sentence: \tindia is mild during january and it is sometimes busy in november\n",
      "\tPrediction:     \tparis inde est en printemps et il est parfois parfois en juillet\n",
      "\tFrench sentence: \tl' inde est doux en janvier et il est parfois occupé en novembre\n",
      "--------------------\n",
      "Test 3\n",
      "\tEnglish sentence: \tthe lime is their least liked fruit but the apple is her least liked\n",
      "\tPrediction:     \tla pomme est leur fruit moins aimé mais la raisin est son moins aimé\n",
      "\tFrench sentence: \tla chaux est leur moins aimé des fruits mais la pomme elle est moins aimé\n",
      "--------------------\n",
      "Test 4\n",
      "\tEnglish sentence: \tnew jersey is sometimes rainy during april and it is usually cold in june\n",
      "\tPrediction:     \tnew jersey est parfois froid en juillet et il est généralement est à l'\n",
      "\tFrench sentence: \tnew jersey est parfois pluvieux en avril et il est généralement froid en juin\n",
      "--------------------\n",
      "Test 5\n",
      "\tEnglish sentence: \the drove the new blue automobile\n",
      "\tPrediction:     \til a pas la nouvelle voiture\n",
      "\tFrench sentence: \til a conduit la nouvelle voiture bleue\n",
      "--------------------\n"
     ]
    }
   ],
   "source": [
    "#make 5 random predictions\n",
    "make_prediction(5, bd_rnn_model)"
   ]
  },
  {
   "cell_type": "markdown",
   "metadata": {},
   "source": [
    "### Model 4: Encoder-Decoder (OPTIONAL)\n",
    "Time to look at encoder-decoder models.  This model is made up of an encoder and decoder. The encoder creates a matrix representation of the sentence.  The decoder takes this matrix as input and predicts the translation as output.\n",
    "\n",
    "Create an encoder-decoder model in the cell below."
   ]
  },
  {
   "cell_type": "code",
   "execution_count": 25,
   "metadata": {},
   "outputs": [],
   "source": [
    "def encdec_model(input_shape, output_sequence_length, english_vocab_size, french_vocab_size):\n",
    "    \"\"\"\n",
    "    Build and train an encoder-decoder model on x and y\n",
    "    :param input_shape: Tuple of input shape\n",
    "    :param output_sequence_length: Length of output sequence\n",
    "    :param english_vocab_size: Number of unique English words in the dataset\n",
    "    :param french_vocab_size: Number of unique French words in the dataset\n",
    "    :return: Keras model built, but not trained\n",
    "    \"\"\"\n",
    "    # OPTIONAL: Implement\n",
    "    model = Sequential() \n",
    "    #model.add(LSTM(french_vocab_size,input_shape=input_shape[1:]))\n",
    "    model.add(LSTM(500,input_shape=input_shape[1:]))\n",
    "    model.add(RepeatVector(output_sequence_length))\n",
    "    model.add(LSTM(500, return_sequences=True)) \n",
    "    model.add(TimeDistributed(Dense(french_vocab_size, activation='softmax')))\n",
    "    rmsprop =  RMSprop(lr=0.01)\n",
    "    model.compile(loss=sparse_categorical_crossentropy,\n",
    "                  optimizer=rmsprop,\n",
    "                  metrics=['accuracy'])\n",
    "    \n",
    "    return model\n",
    "tests.test_encdec_model(encdec_model)"
   ]
  },
  {
   "cell_type": "code",
   "execution_count": 26,
   "metadata": {},
   "outputs": [
    {
     "name": "stdout",
     "output_type": "stream",
     "text": [
      "_________________________________________________________________\n",
      "Layer (type)                 Output Shape              Param #   \n",
      "=================================================================\n",
      "lstm_9 (LSTM)                (None, 500)               1004000   \n",
      "_________________________________________________________________\n",
      "repeat_vector_2 (RepeatVecto (None, 21, 500)           0         \n",
      "_________________________________________________________________\n",
      "lstm_10 (LSTM)               (None, 21, 500)           2002000   \n",
      "_________________________________________________________________\n",
      "time_distributed_6 (TimeDist (None, 21, 345)           172845    \n",
      "=================================================================\n",
      "Total params: 3,178,845.0\n",
      "Trainable params: 3,178,845.0\n",
      "Non-trainable params: 0.0\n",
      "_________________________________________________________________\n",
      "None\n",
      "Train on 99259 samples, validate on 24815 samples\n",
      "Epoch 1/10\n",
      "99259/99259 [==============================] - 91s - loss: 3.6612 - acc: 0.3773 - val_loss: 3.2596 - val_acc: 0.4076\n",
      "Epoch 2/10\n",
      "99259/99259 [==============================] - 88s - loss: 3.1871 - acc: 0.3974 - val_loss: 2.8740 - val_acc: 0.4162\n",
      "Epoch 3/10\n",
      "99259/99259 [==============================] - 88s - loss: 2.7273 - acc: 0.4289 - val_loss: 2.5160 - val_acc: 0.4418\n",
      "Epoch 4/10\n",
      "99259/99259 [==============================] - 88s - loss: 2.5280 - acc: 0.4423 - val_loss: 2.3813 - val_acc: 0.4716\n",
      "Epoch 5/10\n",
      "99259/99259 [==============================] - 88s - loss: 2.2654 - acc: 0.4828 - val_loss: 2.2654 - val_acc: 0.3556\n",
      "Epoch 6/10\n",
      "99259/99259 [==============================] - 89s - loss: 1.9243 - acc: 0.5272 - val_loss: 1.6063 - val_acc: 0.5698\n",
      "Epoch 7/10\n",
      "99259/99259 [==============================] - 88s - loss: 1.5570 - acc: 0.5808 - val_loss: 1.4426 - val_acc: 0.5964\n",
      "Epoch 8/10\n",
      "99259/99259 [==============================] - 89s - loss: 1.4034 - acc: 0.6028 - val_loss: 1.3281 - val_acc: 0.6181\n",
      "Epoch 9/10\n",
      "99259/99259 [==============================] - 88s - loss: 1.3515 - acc: 0.6121 - val_loss: 1.3114 - val_acc: 0.6214\n",
      "Epoch 10/10\n",
      "99259/99259 [==============================] - 88s - loss: 1.3079 - acc: 0.6202 - val_loss: 1.3108 - val_acc: 0.6202\n"
     ]
    },
    {
     "data": {
      "text/plain": [
       "<keras.callbacks.History at 0x7f310b18df28>"
      ]
     },
     "execution_count": 26,
     "metadata": {},
     "output_type": "execute_result"
    }
   ],
   "source": [
    "# Reshaping the input to work with a basic RNN\n",
    "tmp_x4 = pad(preproc_english_sentences, max_french_sequence_length)\n",
    "tmp_x4 = tmp_x4.reshape((-1, preproc_french_sentences.shape[-2], 1))\n",
    "\n",
    "# Train the neural network\n",
    "encdec_rnn_model = encdec_model(\n",
    "    tmp_x4.shape,\n",
    "    max_french_sequence_length,\n",
    "    english_vocab_size,\n",
    "    french_vocab_size)\n",
    "print(encdec_rnn_model.summary())\n",
    "encdec_rnn_model.fit(tmp_x4, preproc_french_sentences, batch_size=1024, epochs=10, validation_split=0.2)"
   ]
  },
  {
   "cell_type": "code",
   "execution_count": 27,
   "metadata": {},
   "outputs": [
    {
     "name": "stdout",
     "output_type": "stream",
     "text": [
      "Encoder-decoder model accuracy on test dataset: 0.6211\n"
     ]
    }
   ],
   "source": [
    "#evaluate performance on the test dataset\n",
    "\n",
    "# Reshaping the test input\n",
    "tmp_x4_test = pad(preproc_english_sentences_test, max_french_sequence_length)\n",
    "tmp_x4_test = tmp_x4_test.reshape((-1, preproc_french_sentences.shape[-2], 1))\n",
    "\n",
    "result = encdec_rnn_model.evaluate(tmp_x4_test,preproc_french_sentences_test, verbose=0)\n",
    "print(\"Encoder-decoder model accuracy on test dataset: {0:.4f}\".format(result[1]) )"
   ]
  },
  {
   "cell_type": "code",
   "execution_count": 28,
   "metadata": {},
   "outputs": [
    {
     "name": "stdout",
     "output_type": "stream",
     "text": [
      "Test 1\n",
      "\tEnglish sentence: \tindia is never wonderful during january but it is sometimes cold in october\n",
      "\tPrediction:     \tla france est parfois en en et il il est est en en\n",
      "\tFrench sentence: \tl' inde est jamais merveilleux en janvier mais il est parfois froid en octobre\n",
      "--------------------\n",
      "Test 2\n",
      "\tEnglish sentence: \tthe united states is sometimes mild during february and it is never dry in spring\n",
      "\tPrediction:     \tles états unis est jamais froid en mois et il est il en en\n",
      "\tFrench sentence: \tles états unis est parfois doux en février et il est jamais sec au printemps\n",
      "--------------------\n",
      "Test 3\n",
      "\tEnglish sentence: \tcalifornia is usually wet during june but it is never dry in april\n",
      "\tPrediction:     \tla france est parfois en en et il il est est en en\n",
      "\tFrench sentence: \tcalifornie est généralement humide en juin mais il est jamais sec en avril\n",
      "--------------------\n",
      "Test 4\n",
      "\tEnglish sentence: \tcalifornia is usually freezing during december but it is sometimes chilly in autumn\n",
      "\tPrediction:     \tla france est parfois en en et il il est est en en\n",
      "\tFrench sentence: \tla californie est le gel habituellement en décembre mais il est parfois frisquet à l' automne\n",
      "--------------------\n",
      "Test 5\n",
      "\tEnglish sentence: \tchina is sometimes beautiful during october but it is usually warm in february\n",
      "\tPrediction:     \tla france est parfois en en et il il est est en en\n",
      "\tFrench sentence: \tchine est parfois belle en octobre mais il est habituellement chaud en février\n",
      "--------------------\n"
     ]
    }
   ],
   "source": [
    "#make 5 random predictions\n",
    "make_prediction(5, encdec_rnn_model)"
   ]
  },
  {
   "cell_type": "markdown",
   "metadata": {},
   "source": [
    "### Model 5: Custom (IMPLEMENTATION)\n",
    "Use everything you learned from the previous models to create a model that incorporates embedding and a bidirectional rnn into one model."
   ]
  },
  {
   "cell_type": "code",
   "execution_count": 38,
   "metadata": {},
   "outputs": [
    {
     "name": "stdout",
     "output_type": "stream",
     "text": [
      "Final Model Loaded\n"
     ]
    }
   ],
   "source": [
    "def model_final(input_shape, output_sequence_length, english_vocab_size, french_vocab_size):\n",
    "    \"\"\"\n",
    "    Build and train a model that incorporates embedding, encoder-decoder, and bidirectional RNN on x and y\n",
    "    :param input_shape: Tuple of input shape\n",
    "    :param output_sequence_length: Length of output sequence\n",
    "    :param english_vocab_size: Number of unique English words in the dataset\n",
    "    :param french_vocab_size: Number of unique French words in the dataset\n",
    "    :return: Keras model built, but not trained\n",
    "    \"\"\"\n",
    "    # TODO: Implement\n",
    "    model = Sequential() \n",
    "    model.add(Embedding(english_vocab_size, 300, input_length=input_shape[1]))\n",
    "    model.add(Bidirectional(LSTM(250))) \n",
    "    model.add(RepeatVector(output_sequence_length))\n",
    "    model.add(LSTM(500, return_sequences=True)) \n",
    "    model.add(TimeDistributed(Dense(french_vocab_size, activation='softmax')))\n",
    "    rmsprop =  RMSprop(lr=0.01)\n",
    "    model.compile(loss=sparse_categorical_crossentropy,\n",
    "                  optimizer=rmsprop,\n",
    "                  metrics=['accuracy']) \n",
    "    return model\n",
    "\n",
    "tests.test_model_final(model_final)\n",
    "\n",
    "\n",
    "print('Final Model Loaded')\n",
    "# TODO: Train the final model"
   ]
  },
  {
   "cell_type": "markdown",
   "metadata": {},
   "source": [
    "## Prediction (IMPLEMENTATION)"
   ]
  },
  {
   "cell_type": "code",
   "execution_count": 40,
   "metadata": {},
   "outputs": [
    {
     "name": "stdout",
     "output_type": "stream",
     "text": [
      "_________________________________________________________________\n",
      "Layer (type)                 Output Shape              Param #   \n",
      "=================================================================\n",
      "embedding_14 (Embedding)     (None, 15, 300)           60000     \n",
      "_________________________________________________________________\n",
      "bidirectional_14 (Bidirectio (None, 500)               1102000   \n",
      "_________________________________________________________________\n",
      "repeat_vector_14 (RepeatVect (None, 21, 500)           0         \n",
      "_________________________________________________________________\n",
      "lstm_37 (LSTM)               (None, 21, 500)           2002000   \n",
      "_________________________________________________________________\n",
      "time_distributed_18 (TimeDis (None, 21, 345)           172845    \n",
      "=================================================================\n",
      "Total params: 3,336,845.0\n",
      "Trainable params: 3,336,845.0\n",
      "Non-trainable params: 0.0\n",
      "_________________________________________________________________\n",
      "None\n",
      "Train on 99259 samples, validate on 24815 samples\n",
      "Epoch 1/20\n",
      "99259/99259 [==============================] - 89s - loss: 3.4321 - acc: 0.3730 - val_loss: 2.7422 - val_acc: 0.4473\n",
      "Epoch 2/20\n",
      "99259/99259 [==============================] - 85s - loss: 2.4389 - acc: 0.4634 - val_loss: 1.9535 - val_acc: 0.5248\n",
      "Epoch 3/20\n",
      "99259/99259 [==============================] - 85s - loss: 1.7060 - acc: 0.5777 - val_loss: 1.3442 - val_acc: 0.6458\n",
      "Epoch 4/20\n",
      "99259/99259 [==============================] - 85s - loss: 1.2667 - acc: 0.6568 - val_loss: 1.6359 - val_acc: 0.5806\n",
      "Epoch 5/20\n",
      "99259/99259 [==============================] - 85s - loss: 0.9372 - acc: 0.7321 - val_loss: 0.7213 - val_acc: 0.7839\n",
      "Epoch 6/20\n",
      "99259/99259 [==============================] - 85s - loss: 0.6027 - acc: 0.8139 - val_loss: 0.4106 - val_acc: 0.8680\n",
      "Epoch 7/20\n",
      "99259/99259 [==============================] - 85s - loss: 0.3363 - acc: 0.8944 - val_loss: 0.2058 - val_acc: 0.9395\n",
      "Epoch 8/20\n",
      "99259/99259 [==============================] - 85s - loss: 0.1712 - acc: 0.9492 - val_loss: 0.1401 - val_acc: 0.9594\n",
      "Epoch 9/20\n",
      "99259/99259 [==============================] - 85s - loss: 0.1135 - acc: 0.9664 - val_loss: 0.1316 - val_acc: 0.9619\n",
      "Epoch 10/20\n",
      "99259/99259 [==============================] - 85s - loss: 0.0903 - acc: 0.9727 - val_loss: 0.0976 - val_acc: 0.9709\n",
      "Epoch 11/20\n",
      "99259/99259 [==============================] - 85s - loss: 0.0795 - acc: 0.9756 - val_loss: 0.0862 - val_acc: 0.9738\n",
      "Epoch 12/20\n",
      "99259/99259 [==============================] - 85s - loss: 0.0697 - acc: 0.9784 - val_loss: 0.0819 - val_acc: 0.9754\n",
      "Epoch 13/20\n",
      "99259/99259 [==============================] - 85s - loss: 0.0626 - acc: 0.9804 - val_loss: 0.0794 - val_acc: 0.9776\n",
      "Epoch 14/20\n",
      "99259/99259 [==============================] - 85s - loss: 0.0589 - acc: 0.9818 - val_loss: 0.0813 - val_acc: 0.9763\n",
      "Epoch 15/20\n",
      "99259/99259 [==============================] - 85s - loss: 0.0538 - acc: 0.9831 - val_loss: 0.0788 - val_acc: 0.9774\n",
      "Epoch 16/20\n",
      "99259/99259 [==============================] - 85s - loss: 0.0502 - acc: 0.9844 - val_loss: 0.0775 - val_acc: 0.9778\n",
      "Epoch 17/20\n",
      "99259/99259 [==============================] - 85s - loss: 0.0483 - acc: 0.9848 - val_loss: 0.0765 - val_acc: 0.9777\n",
      "Epoch 18/20\n",
      "99259/99259 [==============================] - 85s - loss: 0.0468 - acc: 0.9852 - val_loss: 0.0734 - val_acc: 0.9795\n",
      "Epoch 19/20\n",
      "99259/99259 [==============================] - 85s - loss: 0.0450 - acc: 0.9859 - val_loss: 0.0795 - val_acc: 0.9782\n",
      "Epoch 20/20\n",
      "99259/99259 [==============================] - 85s - loss: 0.0432 - acc: 0.9863 - val_loss: 0.0718 - val_acc: 0.9803\n",
      "Sample 1:\n",
      "il a vu un vieux camion jaune <PAD> <PAD> <PAD> <PAD> <PAD> <PAD> <PAD> <PAD> <PAD> <PAD> <PAD> <PAD> <PAD> <PAD>\n",
      "Il a vu un vieux camion jaune\n",
      "Sample 2:\n",
      "les états unis est calme en septembre et il est généralement agréable en octobre <PAD> <PAD> <PAD> <PAD> <PAD> <PAD> <PAD>\n",
      "les états unis est calme en septembre et il est généralement agréable en octobre <PAD> <PAD> <PAD> <PAD> <PAD> <PAD> <PAD>\n"
     ]
    }
   ],
   "source": [
    "def final_predictions(x, y, x_tk, y_tk):\n",
    "    \"\"\"\n",
    "    Gets predictions using the final model\n",
    "    :param x: Preprocessed English data\n",
    "    :param y: Preprocessed French data\n",
    "    :param x_tk: English tokenizer\n",
    "    :param y_tk: French tokenizer\n",
    "    \"\"\"\n",
    "    # TODO: Train neural network using model_final\n",
    "  \n",
    "    # TODO: Train the neural network\n",
    "    model = model_final(x.shape,max_french_sequence_length, english_vocab_size,french_vocab_size)\n",
    "    print(model.summary())\n",
    "    model.fit(x, y, batch_size=1024, epochs=20, validation_split=0.2)\n",
    "    \n",
    "    ## DON'T EDIT ANYTHING BELOW THIS LINE\n",
    "    y_id_to_word = {value: key for key, value in y_tk.word_index.items()}\n",
    "    y_id_to_word[0] = '<PAD>'\n",
    "\n",
    "    sentence = 'he saw a old yellow truck'\n",
    "    sentence = [x_tk.word_index[word] for word in sentence.split()]\n",
    "    sentence = pad_sequences([sentence], maxlen=x.shape[-1], padding='post')\n",
    "    sentences = np.array([sentence[0], x[0]])\n",
    "    predictions = model.predict(sentences, len(sentences))\n",
    "\n",
    "    print('Sample 1:')\n",
    "    print(' '.join([y_id_to_word[np.argmax(x)] for x in predictions[0]]))\n",
    "    print('Il a vu un vieux camion jaune')\n",
    "    print('Sample 2:')\n",
    "    print(' '.join([y_id_to_word[np.argmax(x)] for x in predictions[1]]))\n",
    "    print(' '.join([y_id_to_word[np.max(x)] for x in y[0]]))\n",
    "\n",
    "\n",
    "final_predictions(preproc_english_sentences, preproc_french_sentences, english_tokenizer, french_tokenizer)"
   ]
  }
 ],
 "metadata": {
  "anaconda-cloud": {},
  "kernelspec": {
   "display_name": "Python [conda env:aind-dl]",
   "language": "python",
   "name": "conda-env-aind-dl-py"
  },
  "language_info": {
   "codemirror_mode": {
    "name": "ipython",
    "version": 3
   },
   "file_extension": ".py",
   "mimetype": "text/x-python",
   "name": "python",
   "nbconvert_exporter": "python",
   "pygments_lexer": "ipython3",
   "version": "3.5.3"
  }
 },
 "nbformat": 4,
 "nbformat_minor": 1
}
